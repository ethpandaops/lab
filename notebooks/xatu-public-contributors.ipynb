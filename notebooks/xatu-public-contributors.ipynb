{
 "cells": [
  {
   "cell_type": "markdown",
   "metadata": {},
   "source": [
    "# Xatu Public Contributors Analysis\n",
    "\n",
    "This notebook fetches and analyzes public contributor data from Clickhouse and generates JSON files for the frontend."
   ]
  },
  {
   "cell_type": "code",
   "execution_count": 11,
   "metadata": {},
   "outputs": [],
   "source": [
    "import os\n",
    "import json\n",
    "from datetime import datetime, timedelta\n",
    "import pandas as pd\n",
    "from sqlalchemy import create_engine\n",
    "from pathlib import Path\n",
    "\n",
    "# Environment variables\n",
    "CLICKHOUSE_HOST = os.getenv('CLICKHOUSE_HOST')\n",
    "CLICKHOUSE_USER = os.getenv('CLICKHOUSE_USER')\n",
    "CLICKHOUSE_PASSWORD = os.getenv('CLICKHOUSE_PASSWORD')\n",
    "DATA_DIR = '../data/xatu-public-contributors'\n",
    "\n",
    "# if not all([CLICKHOUSE_HOST, CLICKHOUSE_USER, CLICKHOUSE_PASSWORD, DATA_DIR]):\n",
    "#     raise ValueError(\"Missing required environment variables\")\n",
    "\n",
    "# Create Clickhouse connection\n",
    "engine = create_engine(\n",
    "    f'clickhouse+native://{CLICKHOUSE_USER}:{CLICKHOUSE_PASSWORD}@{CLICKHOUSE_HOST}/default'\n",
    ")"
   ]
  },
  {
   "cell_type": "code",
   "execution_count": 12,
   "metadata": {},
   "outputs": [],
   "source": [
    "# Create sample data\n",
    "versions_data = [\n",
    "    {\"client_name\": \"Lighthouse\", \"client_version\": \"v4.5.0\", \"count\": 1250},\n",
    "    {\"client_name\": \"Prysm\", \"client_version\": \"v4.0.7\", \"count\": 980}, \n",
    "    {\"client_name\": \"Teku\", \"client_version\": \"v23.6.2\", \"count\": 750},\n",
    "    {\"client_name\": \"Nimbus\", \"client_version\": \"v23.6.1\", \"count\": 620},\n",
    "    {\"client_name\": \"Lighthouse\", \"client_version\": \"v4.4.1\", \"count\": 450},\n",
    "    {\"client_name\": \"Prysm\", \"client_version\": \"v4.0.6\", \"count\": 380},\n",
    "    {\"client_name\": \"Teku\", \"client_version\": \"v23.6.1\", \"count\": 320},\n",
    "    {\"client_name\": \"Nimbus\", \"client_version\": \"v23.6.0\", \"count\": 280},\n",
    "    {\"client_name\": \"Lighthouse\", \"client_version\": \"v4.3.0\", \"count\": 220},\n",
    "    {\"client_name\": \"Prysm\", \"client_version\": \"v4.0.5\", \"count\": 180}\n",
    "]\n",
    "\n",
    "DATA_DIR\n",
    "# Save to JSON\n",
    "with open(Path(DATA_DIR) / 'top_client_versions.json', 'w') as f:\n",
    "    json.dump(versions_data, f)\n"
   ]
  }
 ],
 "metadata": {
  "kernelspec": {
   "display_name": "Python 3",
   "language": "python",
   "name": "python3"
  },
  "language_info": {
   "codemirror_mode": {
    "name": "ipython",
    "version": 3
   },
   "file_extension": ".py",
   "mimetype": "text/x-python",
   "name": "python",
   "nbconvert_exporter": "python",
   "pygments_lexer": "ipython3",
   "version": "3.12.4"
  }
 },
 "nbformat": 4,
 "nbformat_minor": 4
}
