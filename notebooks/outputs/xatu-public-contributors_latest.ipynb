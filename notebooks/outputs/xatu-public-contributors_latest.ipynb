{
 "cells": [
  {
   "cell_type": "markdown",
   "id": "fefeb9a8",
   "metadata": {
    "tags": [
     "papermill-error-cell-tag"
    ]
   },
   "source": [
    "<span style=\"color:red; font-family:Helvetica Neue, Helvetica, Arial, sans-serif; font-size:2em;\">An Exception was encountered at '<a href=\"#papermill-error-cell\">In [3]</a>'.</span>"
   ]
  },
  {
   "cell_type": "code",
   "execution_count": 1,
   "id": "006e1c36",
   "metadata": {
    "execution": {
     "iopub.execute_input": "2025-01-08T04:57:57.993223Z",
     "iopub.status.busy": "2025-01-08T04:57:57.993047Z",
     "iopub.status.idle": "2025-01-08T04:57:57.995745Z",
     "shell.execute_reply": "2025-01-08T04:57:57.995409Z"
    },
    "papermill": {
     "duration": 0.005551,
     "end_time": "2025-01-08T04:57:57.996488",
     "exception": false,
     "start_time": "2025-01-08T04:57:57.990937",
     "status": "completed"
    },
    "tags": [
     "injected-parameters"
    ]
   },
   "outputs": [],
   "source": [
    "# Parameters\n",
    "DATA_DIR = \"data/xatu-public-contributors\"\n"
   ]
  },
  {
   "cell_type": "markdown",
   "id": "db3aff39",
   "metadata": {
    "papermill": {
     "duration": 0.00066,
     "end_time": "2025-01-08T04:57:57.998853",
     "exception": false,
     "start_time": "2025-01-08T04:57:57.998193",
     "status": "completed"
    },
    "tags": []
   },
   "source": [
    "# Xatu Public Contributors Analysis\n",
    "\n",
    "This notebook fetches and analyzes public contributor data from Clickhouse and generates JSON files for the frontend."
   ]
  },
  {
   "cell_type": "code",
   "execution_count": 2,
   "id": "04c5eaed",
   "metadata": {
    "execution": {
     "iopub.execute_input": "2025-01-08T04:57:58.000969Z",
     "iopub.status.busy": "2025-01-08T04:57:58.000729Z",
     "iopub.status.idle": "2025-01-08T04:57:58.656742Z",
     "shell.execute_reply": "2025-01-08T04:57:58.656403Z"
    },
    "papermill": {
     "duration": 0.658049,
     "end_time": "2025-01-08T04:57:58.657722",
     "exception": false,
     "start_time": "2025-01-08T04:57:57.999673",
     "status": "completed"
    },
    "tags": []
   },
   "outputs": [],
   "source": [
    "import os\n",
    "import json\n",
    "from datetime import datetime, timedelta\n",
    "import pandas as pd\n",
    "from sqlalchemy import create_engine\n",
    "from pathlib import Path\n",
    "\n",
    "# Environment variables\n",
    "CLICKHOUSE_HOST = os.getenv('CLICKHOUSE_HOST')\n",
    "CLICKHOUSE_USER = os.getenv('CLICKHOUSE_USER')\n",
    "CLICKHOUSE_PASSWORD = os.getenv('CLICKHOUSE_PASSWORD')\n",
    "DATA_DIR = '../data/xatu-public-contributors'\n",
    "\n",
    "# if not all([CLICKHOUSE_HOST, CLICKHOUSE_USER, CLICKHOUSE_PASSWORD, DATA_DIR]):\n",
    "#     raise ValueError(\"Missing required environment variables\")\n",
    "\n",
    "# Create Clickhouse connection\n",
    "engine = create_engine(\n",
    "    f'clickhouse+native://{CLICKHOUSE_USER}:{CLICKHOUSE_PASSWORD}@{CLICKHOUSE_HOST}/default'\n",
    ")"
   ]
  },
  {
   "cell_type": "markdown",
   "id": "cdbaec48",
   "metadata": {
    "tags": [
     "papermill-error-cell-tag"
    ]
   },
   "source": [
    "<span id=\"papermill-error-cell\" style=\"color:red; font-family:Helvetica Neue, Helvetica, Arial, sans-serif; font-size:2em;\">Execution using papermill encountered an exception here and stopped:</span>"
   ]
  },
  {
   "cell_type": "code",
   "execution_count": 3,
   "id": "edb499f6",
   "metadata": {
    "execution": {
     "iopub.execute_input": "2025-01-08T04:57:58.659959Z",
     "iopub.status.busy": "2025-01-08T04:57:58.659761Z",
     "iopub.status.idle": "2025-01-08T04:57:58.802269Z",
     "shell.execute_reply": "2025-01-08T04:57:58.801775Z"
    },
    "papermill": {
     "duration": 0.144169,
     "end_time": "2025-01-08T04:57:58.802875",
     "exception": true,
     "start_time": "2025-01-08T04:57:58.658706",
     "status": "failed"
    },
    "tags": []
   },
   "outputs": [
    {
     "ename": "FileNotFoundError",
     "evalue": "[Errno 2] No such file or directory: '../data/xatu-public-contributors/top_client_versions.json'",
     "output_type": "error",
     "traceback": [
      "\u001b[0;31m---------------------------------------------------------------------------\u001b[0m",
      "\u001b[0;31mFileNotFoundError\u001b[0m                         Traceback (most recent call last)",
      "Cell \u001b[0;32mIn[3], line 17\u001b[0m\n\u001b[1;32m     15\u001b[0m DATA_DIR\n\u001b[1;32m     16\u001b[0m \u001b[38;5;66;03m# Save to JSON\u001b[39;00m\n\u001b[0;32m---> 17\u001b[0m \u001b[38;5;28;01mwith\u001b[39;00m \u001b[38;5;28;43mopen\u001b[39;49m\u001b[43m(\u001b[49m\u001b[43mPath\u001b[49m\u001b[43m(\u001b[49m\u001b[43mDATA_DIR\u001b[49m\u001b[43m)\u001b[49m\u001b[43m \u001b[49m\u001b[38;5;241;43m/\u001b[39;49m\u001b[43m \u001b[49m\u001b[38;5;124;43m'\u001b[39;49m\u001b[38;5;124;43mtop_client_versions.json\u001b[39;49m\u001b[38;5;124;43m'\u001b[39;49m\u001b[43m,\u001b[49m\u001b[43m \u001b[49m\u001b[38;5;124;43m'\u001b[39;49m\u001b[38;5;124;43mw\u001b[39;49m\u001b[38;5;124;43m'\u001b[39;49m\u001b[43m)\u001b[49m \u001b[38;5;28;01mas\u001b[39;00m f:\n\u001b[1;32m     18\u001b[0m     json\u001b[38;5;241m.\u001b[39mdump(versions_data, f)\n",
      "File \u001b[0;32m~/.local/lib/python3.12/site-packages/IPython/core/interactiveshell.py:324\u001b[0m, in \u001b[0;36m_modified_open\u001b[0;34m(file, *args, **kwargs)\u001b[0m\n\u001b[1;32m    317\u001b[0m \u001b[38;5;28;01mif\u001b[39;00m file \u001b[38;5;129;01min\u001b[39;00m {\u001b[38;5;241m0\u001b[39m, \u001b[38;5;241m1\u001b[39m, \u001b[38;5;241m2\u001b[39m}:\n\u001b[1;32m    318\u001b[0m     \u001b[38;5;28;01mraise\u001b[39;00m \u001b[38;5;167;01mValueError\u001b[39;00m(\n\u001b[1;32m    319\u001b[0m         \u001b[38;5;124mf\u001b[39m\u001b[38;5;124m\"\u001b[39m\u001b[38;5;124mIPython won\u001b[39m\u001b[38;5;124m'\u001b[39m\u001b[38;5;124mt let you open fd=\u001b[39m\u001b[38;5;132;01m{\u001b[39;00mfile\u001b[38;5;132;01m}\u001b[39;00m\u001b[38;5;124m by default \u001b[39m\u001b[38;5;124m\"\u001b[39m\n\u001b[1;32m    320\u001b[0m         \u001b[38;5;124m\"\u001b[39m\u001b[38;5;124mas it is likely to crash IPython. If you know what you are doing, \u001b[39m\u001b[38;5;124m\"\u001b[39m\n\u001b[1;32m    321\u001b[0m         \u001b[38;5;124m\"\u001b[39m\u001b[38;5;124myou can use builtins\u001b[39m\u001b[38;5;124m'\u001b[39m\u001b[38;5;124m open.\u001b[39m\u001b[38;5;124m\"\u001b[39m\n\u001b[1;32m    322\u001b[0m     )\n\u001b[0;32m--> 324\u001b[0m \u001b[38;5;28;01mreturn\u001b[39;00m \u001b[43mio_open\u001b[49m\u001b[43m(\u001b[49m\u001b[43mfile\u001b[49m\u001b[43m,\u001b[49m\u001b[43m \u001b[49m\u001b[38;5;241;43m*\u001b[39;49m\u001b[43margs\u001b[49m\u001b[43m,\u001b[49m\u001b[43m \u001b[49m\u001b[38;5;241;43m*\u001b[39;49m\u001b[38;5;241;43m*\u001b[39;49m\u001b[43mkwargs\u001b[49m\u001b[43m)\u001b[49m\n",
      "\u001b[0;31mFileNotFoundError\u001b[0m: [Errno 2] No such file or directory: '../data/xatu-public-contributors/top_client_versions.json'"
     ]
    }
   ],
   "source": [
    "# Create sample data\n",
    "versions_data = [\n",
    "    {\"client_name\": \"Lighthouse\", \"client_version\": \"v4.5.0\", \"count\": 1250},\n",
    "    {\"client_name\": \"Prysm\", \"client_version\": \"v4.0.7\", \"count\": 980}, \n",
    "    {\"client_name\": \"Teku\", \"client_version\": \"v23.6.2\", \"count\": 750},\n",
    "    {\"client_name\": \"Nimbus\", \"client_version\": \"v23.6.1\", \"count\": 620},\n",
    "    {\"client_name\": \"Lighthouse\", \"client_version\": \"v4.4.1\", \"count\": 450},\n",
    "    {\"client_name\": \"Prysm\", \"client_version\": \"v4.0.6\", \"count\": 380},\n",
    "    {\"client_name\": \"Teku\", \"client_version\": \"v23.6.1\", \"count\": 320},\n",
    "    {\"client_name\": \"Nimbus\", \"client_version\": \"v23.6.0\", \"count\": 280},\n",
    "    {\"client_name\": \"Lighthouse\", \"client_version\": \"v4.3.0\", \"count\": 220},\n",
    "    {\"client_name\": \"Prysm\", \"client_version\": \"v4.0.5\", \"count\": 180}\n",
    "]\n",
    "\n",
    "DATA_DIR\n",
    "# Save to JSON\n",
    "with open(Path(DATA_DIR) / 'top_client_versions.json', 'w') as f:\n",
    "    json.dump(versions_data, f)\n"
   ]
  }
 ],
 "metadata": {
  "kernelspec": {
   "display_name": "Python 3",
   "language": "python",
   "name": "python3"
  },
  "language_info": {
   "codemirror_mode": {
    "name": "ipython",
    "version": 3
   },
   "file_extension": ".py",
   "mimetype": "text/x-python",
   "name": "python",
   "nbconvert_exporter": "python",
   "pygments_lexer": "ipython3",
   "version": "3.12.4"
  },
  "papermill": {
   "default_parameters": {},
   "duration": 1.990951,
   "end_time": "2025-01-08T04:57:59.019829",
   "environment_variables": {},
   "exception": true,
   "input_path": "notebooks/xatu-public-contributors.ipynb",
   "output_path": "notebooks/outputs/xatu-public-contributors_latest.ipynb",
   "parameters": {
    "DATA_DIR": "data/xatu-public-contributors"
   },
   "start_time": "2025-01-08T04:57:57.028878",
   "version": "2.6.0"
  }
 },
 "nbformat": 4,
 "nbformat_minor": 5
}